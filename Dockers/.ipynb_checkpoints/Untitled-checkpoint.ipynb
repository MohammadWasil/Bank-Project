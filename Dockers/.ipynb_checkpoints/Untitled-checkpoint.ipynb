{
 "cells": [
  {
   "cell_type": "code",
   "execution_count": 1,
   "metadata": {},
   "outputs": [],
   "source": [
    "import pandas as pd\n",
    "from pymongo import MongoClient \n",
    "import os, json, csv"
   ]
  },
  {
   "cell_type": "code",
   "execution_count": 143,
   "metadata": {},
   "outputs": [
    {
     "name": "stdout",
     "output_type": "stream",
     "text": [
      "Database is created !!\n",
      "Collection is created\n"
     ]
    }
   ],
   "source": [
    "# Creating a client \n",
    "client = MongoClient(\"mongodb://localhost:27017/\") \n",
    "  \n",
    "# Greating a database name GFG \n",
    "database = client[\"Bank\"] \n",
    "print(\"Database is created !!\")\n",
    "\n",
    "collection = database[\"CustomerTransactions\"]\n",
    "print(\"Collection is created\")"
   ]
  },
  {
   "cell_type": "code",
   "execution_count": 155,
   "metadata": {},
   "outputs": [
    {
     "data": {
      "text/plain": [
       "Collection(Database(MongoClient(host=['localhost:27017'], document_class=dict, tz_aware=False, connect=True), 'Bank'), 'CustomerTransactions.CustomerTransactions')"
      ]
     },
     "execution_count": 155,
     "metadata": {},
     "output_type": "execute_result"
    }
   ],
   "source": [
    "collection.CustomerTransactions"
   ]
  },
  {
   "cell_type": "code",
   "execution_count": 153,
   "metadata": {},
   "outputs": [],
   "source": [
    "# To check if the database is created or not.\n",
    "list_of_database = client.list_database_names() \n",
    "\n",
    "if \"Bank\" in list_of_db: \n",
    "\tprint(\"Exists !!\") \n",
    "    \n",
    "\n",
    "# To check if the collection is created.\n",
    "list_of_collection = database.list_collection_names()\n",
    "if \"CustomerTransaction\" in list_of_collection:\n",
    "    print(\"Exists !!\")\n"
   ]
  },
  {
   "cell_type": "code",
   "execution_count": 37,
   "metadata": {},
   "outputs": [
    {
     "data": {
      "text/plain": [
       "'D:\\\\Groceries with card.xlsx'"
      ]
     },
     "execution_count": 37,
     "metadata": {},
     "output_type": "execute_result"
    }
   ],
   "source": [
    "os.path.join(dir_path, excel_file)\n"
   ]
  },
  {
   "cell_type": "code",
   "execution_count": 148,
   "metadata": {},
   "outputs": [],
   "source": [
    "dir_path = \"D:/ML/Tutorials/Git/Dockers/Groceries with card.xlsx\"\n",
    "csv_file = \"D:/ML/Tutorials/Git/Dockers/Groceries with card.csv\"\n",
    "\n",
    "data = pd.read_excel (dir_path)\n",
    "data.set_index(\"SNo\", inplace=True)\n",
    "data.to_csv(csv_file)\n"
   ]
  },
  {
   "cell_type": "code",
   "execution_count": 149,
   "metadata": {},
   "outputs": [
    {
     "data": {
      "text/html": [
       "<div>\n",
       "<style scoped>\n",
       "    .dataframe tbody tr th:only-of-type {\n",
       "        vertical-align: middle;\n",
       "    }\n",
       "\n",
       "    .dataframe tbody tr th {\n",
       "        vertical-align: top;\n",
       "    }\n",
       "\n",
       "    .dataframe thead th {\n",
       "        text-align: right;\n",
       "    }\n",
       "</style>\n",
       "<table border=\"1\" class=\"dataframe\">\n",
       "  <thead>\n",
       "    <tr style=\"text-align: right;\">\n",
       "      <th></th>\n",
       "      <th>Date</th>\n",
       "      <th>Place</th>\n",
       "      <th>Item</th>\n",
       "      <th>Amount</th>\n",
       "      <th>Total</th>\n",
       "    </tr>\n",
       "    <tr>\n",
       "      <th>SNo</th>\n",
       "      <th></th>\n",
       "      <th></th>\n",
       "      <th></th>\n",
       "      <th></th>\n",
       "      <th></th>\n",
       "    </tr>\n",
       "  </thead>\n",
       "  <tbody>\n",
       "    <tr>\n",
       "      <th>1</th>\n",
       "      <td>2020-01-01</td>\n",
       "      <td>Netto</td>\n",
       "      <td>apple juice, roma pudding, pizza, finton doppe...</td>\n",
       "      <td>0.79+0.25+0.35+0.79+0.99</td>\n",
       "      <td>3.17</td>\n",
       "    </tr>\n",
       "    <tr>\n",
       "      <th>2</th>\n",
       "      <td>2020-01-08</td>\n",
       "      <td>Netto</td>\n",
       "      <td>oil, kechup, pizza, bread, pyaaz</td>\n",
       "      <td>0.99+1.29+0.79+0.59+0.69</td>\n",
       "      <td>4.35</td>\n",
       "    </tr>\n",
       "    <tr>\n",
       "      <th>3</th>\n",
       "      <td>2020-01-11</td>\n",
       "      <td>Netto</td>\n",
       "      <td>Margherita Pizza, Pepsi, Banana</td>\n",
       "      <td>0.79+0.95+0.25+0.94</td>\n",
       "      <td>2.93</td>\n",
       "    </tr>\n",
       "    <tr>\n",
       "      <th>4</th>\n",
       "      <td>2020-01-14</td>\n",
       "      <td>Netto</td>\n",
       "      <td>Water, pizza, eggs, mozzarella cheese</td>\n",
       "      <td>0.19+0.25+0.79+1.43+1.40</td>\n",
       "      <td>4.06</td>\n",
       "    </tr>\n",
       "    <tr>\n",
       "      <th>5</th>\n",
       "      <td>2020-01-22</td>\n",
       "      <td>Netto</td>\n",
       "      <td>Apple juice, 2 kubza</td>\n",
       "      <td>0.79+0.25+0.32</td>\n",
       "      <td>1.36</td>\n",
       "    </tr>\n",
       "    <tr>\n",
       "      <th>...</th>\n",
       "      <td>...</td>\n",
       "      <td>...</td>\n",
       "      <td>...</td>\n",
       "      <td>...</td>\n",
       "      <td>...</td>\n",
       "    </tr>\n",
       "    <tr>\n",
       "      <th>79</th>\n",
       "      <td>2020-10-12</td>\n",
       "      <td>Netto</td>\n",
       "      <td>2 harry donuts, tomato puree, ketchup, strawbe...</td>\n",
       "      <td>1.06+0.37+0.76+0.86+0.96+0.66+0.77+1.52+1.52</td>\n",
       "      <td>8.48</td>\n",
       "    </tr>\n",
       "    <tr>\n",
       "      <th>80</th>\n",
       "      <td>2020-10-17</td>\n",
       "      <td>Netto</td>\n",
       "      <td>cocacola, big bread, khubza, lemon, apple, BOT...</td>\n",
       "      <td>1.26+0.25+0.86+0.37+1.26+1.50-2.25</td>\n",
       "      <td>5.5-2.25=3.25</td>\n",
       "    </tr>\n",
       "    <tr>\n",
       "      <th>81</th>\n",
       "      <td>2020-10-22</td>\n",
       "      <td>Netto</td>\n",
       "      <td>bread big, basmati rice, rice</td>\n",
       "      <td>0.86+0.97+0.66</td>\n",
       "      <td>2.49</td>\n",
       "    </tr>\n",
       "    <tr>\n",
       "      <th>82</th>\n",
       "      <td>2020-10-22</td>\n",
       "      <td>Netto</td>\n",
       "      <td>pepsi, pizza margerita small, donut, pesto gen...</td>\n",
       "      <td>0.44+0.25+0.77+0.47+0.96+0.60</td>\n",
       "      <td>3.49</td>\n",
       "    </tr>\n",
       "    <tr>\n",
       "      <th>83</th>\n",
       "      <td>2020-10-27</td>\n",
       "      <td>Netto</td>\n",
       "      <td>bread, eggs, rice, bodywash X3, tomato paste, ...</td>\n",
       "      <td>0.66+1.52+0.66+2.22+0.37+0.96+0.47+0.43+0.97+0...</td>\n",
       "      <td>10.74</td>\n",
       "    </tr>\n",
       "  </tbody>\n",
       "</table>\n",
       "<p>83 rows × 5 columns</p>\n",
       "</div>"
      ],
      "text/plain": [
       "          Date  Place                                               Item  \\\n",
       "SNo                                                                        \n",
       "1   2020-01-01  Netto  apple juice, roma pudding, pizza, finton doppe...   \n",
       "2   2020-01-08  Netto                   oil, kechup, pizza, bread, pyaaz   \n",
       "3   2020-01-11  Netto                    Margherita Pizza, Pepsi, Banana   \n",
       "4   2020-01-14  Netto              Water, pizza, eggs, mozzarella cheese   \n",
       "5   2020-01-22  Netto                               Apple juice, 2 kubza   \n",
       "..         ...    ...                                                ...   \n",
       "79  2020-10-12  Netto  2 harry donuts, tomato puree, ketchup, strawbe...   \n",
       "80  2020-10-17  Netto  cocacola, big bread, khubza, lemon, apple, BOT...   \n",
       "81  2020-10-22  Netto                      bread big, basmati rice, rice   \n",
       "82  2020-10-22  Netto  pepsi, pizza margerita small, donut, pesto gen...   \n",
       "83  2020-10-27  Netto  bread, eggs, rice, bodywash X3, tomato paste, ...   \n",
       "\n",
       "                                                Amount          Total  \n",
       "SNo                                                                    \n",
       "1                             0.79+0.25+0.35+0.79+0.99           3.17  \n",
       "2                             0.99+1.29+0.79+0.59+0.69           4.35  \n",
       "3                                  0.79+0.95+0.25+0.94           2.93  \n",
       "4                             0.19+0.25+0.79+1.43+1.40           4.06  \n",
       "5                                       0.79+0.25+0.32           1.36  \n",
       "..                                                 ...            ...  \n",
       "79        1.06+0.37+0.76+0.86+0.96+0.66+0.77+1.52+1.52           8.48  \n",
       "80                  1.26+0.25+0.86+0.37+1.26+1.50-2.25  5.5-2.25=3.25  \n",
       "81                                      0.86+0.97+0.66           2.49  \n",
       "82                       0.44+0.25+0.77+0.47+0.96+0.60           3.49  \n",
       "83   0.66+1.52+0.66+2.22+0.37+0.96+0.47+0.43+0.97+0...          10.74  \n",
       "\n",
       "[83 rows x 5 columns]"
      ]
     },
     "execution_count": 149,
     "metadata": {},
     "output_type": "execute_result"
    }
   ],
   "source": [
    "data"
   ]
  },
  {
   "cell_type": "code",
   "execution_count": 157,
   "metadata": {},
   "outputs": [],
   "source": [
    "header= [ \"SNo\", \"Date\", \"Place\",\"Item\", \"Amount\", \"Total\"]\n",
    "\n",
    "with open(csv_file, encoding='utf-8') as csvf:\n",
    "\n",
    "    reader = csv.DictReader( csvf, header)\n",
    "\n",
    "    for each in reader:\n",
    "        row={}\n",
    "        for field in header:\n",
    "            row[field]=each[field]\n",
    "            \n",
    "        database.CustomerTransactions.insert_one(row)\n",
    "\n",
    "#"
   ]
  },
  {
   "cell_type": "code",
   "execution_count": 138,
   "metadata": {},
   "outputs": [
    {
     "data": {
      "text/plain": [
       "{'S. No': '83',\n",
       " 'Date': '2020-10-27',\n",
       " 'Place': 'Netto',\n",
       " 'Item': 'bread, eggs, rice, bodywash X3, tomato paste, cheese slice, curd, strawberry yogurt, gurke, condense milk, mayonaisse, tuna',\n",
       " 'Amount': '0.66+1.52+0.66+2.22+0.37+0.96+0.47+0.43+0.97+0.57+0.76+1.15',\n",
       " 'Total': '10.74'}"
      ]
     },
     "execution_count": 138,
     "metadata": {},
     "output_type": "execute_result"
    }
   ],
   "source": [
    "row"
   ]
  },
  {
   "cell_type": "code",
   "execution_count": null,
   "metadata": {},
   "outputs": [],
   "source": []
  },
  {
   "cell_type": "code",
   "execution_count": 2,
   "metadata": {},
   "outputs": [],
   "source": [
    "# Creating a client \n",
    "client = MongoClient(\"mongodb://localhost:27017/\") "
   ]
  },
  {
   "cell_type": "code",
   "execution_count": 9,
   "metadata": {},
   "outputs": [],
   "source": [
    "database = client.Bank # get the database"
   ]
  },
  {
   "cell_type": "code",
   "execution_count": 11,
   "metadata": {},
   "outputs": [],
   "source": [
    "col = database.CustomerTransactions # get the collection"
   ]
  },
  {
   "cell_type": "code",
   "execution_count": 27,
   "metadata": {},
   "outputs": [
    {
     "data": {
      "text/plain": [
       "{'_id': ObjectId('5f98977f4e6d9ffd72f449bd'),\n",
       " 'SNo': '1',\n",
       " 'Date': '2020-01-01',\n",
       " 'Place': 'Netto',\n",
       " 'Item': 'apple juice, roma pudding, pizza, finton doppelkeks',\n",
       " 'Amount': '0.79+0.25+0.35+0.79+0.99',\n",
       " 'Total': '3.17'}"
      ]
     },
     "execution_count": 27,
     "metadata": {},
     "output_type": "execute_result"
    }
   ],
   "source": [
    "col.find_one({'SNo': '1'})"
   ]
  },
  {
   "cell_type": "code",
   "execution_count": 24,
   "metadata": {
    "collapsed": true
   },
   "outputs": [
    {
     "name": "stdout",
     "output_type": "stream",
     "text": [
      "{'_id': ObjectId('5f98977f4e6d9ffd72f449bd'), 'SNo': '1', 'Date': '2020-01-01', 'Place': 'Netto', 'Item': 'apple juice, roma pudding, pizza, finton doppelkeks', 'Amount': '0.79+0.25+0.35+0.79+0.99', 'Total': '3.17'}\n",
      "{'_id': ObjectId('5f98977f4e6d9ffd72f449be'), 'SNo': '2', 'Date': '2020-01-08', 'Place': 'Netto', 'Item': 'oil, kechup, pizza, bread, pyaaz', 'Amount': '0.99+1.29+0.79+0.59+0.69', 'Total': '4.35'}\n",
      "{'_id': ObjectId('5f98977f4e6d9ffd72f449bf'), 'SNo': '3', 'Date': '2020-01-11', 'Place': 'Netto', 'Item': 'Margherita Pizza, Pepsi, Banana', 'Amount': '0.79+0.95+0.25+0.94', 'Total': '2.93'}\n",
      "{'_id': ObjectId('5f98977f4e6d9ffd72f449c0'), 'SNo': '4', 'Date': '2020-01-14', 'Place': 'Netto', 'Item': 'Water, pizza, eggs, mozzarella cheese', 'Amount': '0.19+0.25+0.79+1.43+1.40', 'Total': '4.06'}\n",
      "{'_id': ObjectId('5f98977f4e6d9ffd72f449c1'), 'SNo': '5', 'Date': '2020-01-22', 'Place': 'Netto', 'Item': 'Apple juice, 2 kubza', 'Amount': '0.79+0.25+0.32', 'Total': '1.36'}\n",
      "{'_id': ObjectId('5f98977f4e6d9ffd72f449c2'), 'SNo': '6', 'Date': '2020-01-23', 'Place': 'Netto', 'Item': 'Pizza, eggs, FA Men Ocean(Face Wash)', 'Amount': '0.79+1.55+1.99', 'Total': '4.33'}\n",
      "{'_id': ObjectId('5f98977f4e6d9ffd72f449c3'), 'SNo': '7', 'Date': '2020-01-14', 'Place': 'Amazon', 'Item': 'CFL Light bulb', 'Amount': '5.27', 'Total': '5.27'}\n",
      "{'_id': ObjectId('5f98977f4e6d9ffd72f449c4'), 'SNo': '8', 'Date': '2020-01-24', 'Place': 'Eurogida', 'Item': 'Chicken, Keema, brot', 'Amount': '6.45+1.88+1.79', 'Total': '10.12'}\n",
      "{'_id': ObjectId('5f98977f4e6d9ffd72f449c5'), 'SNo': '9', 'Date': '2020-01-26', 'Place': 'Netto', 'Item': 'Bread, biscuit, tomato', 'Amount': '0.69+0.99+1.39', 'Total': '3.07'}\n",
      "{'_id': ObjectId('5f98977f4e6d9ffd72f449c6'), 'SNo': '10', 'Date': '2020-01-27', 'Place': 'Netto', 'Item': 'Pizza', 'Amount': '0.79', 'Total': '0.79'}\n",
      "{'_id': ObjectId('5f98977f4e6d9ffd72f449c7'), 'SNo': '11', 'Date': '2020-01-28', 'Place': 'dm', 'Item': 'loreal men expert facewash', 'Amount': '4.95', 'Total': '4.95'}\n",
      "{'_id': ObjectId('5f98977f4e6d9ffd72f449c8'), 'SNo': '12', 'Date': '2020-01-29', 'Place': 'Netto', 'Item': 'bread, onion, yogurt', 'Amount': '0.69+0.49+0.69', 'Total': '1.87'}\n",
      "{'_id': ObjectId('5f98977f4e6d9ffd72f449c9'), 'SNo': '13', 'Date': '2019-12-26', 'Place': 'Subway', 'Item': 'Fish one foot sub', 'Amount': '6.69', 'Total': '6.69'}\n",
      "{'_id': ObjectId('5f98977f4e6d9ffd72f449ca'), 'SNo': '14', 'Date': '2020-01-30', 'Place': 'Netto', 'Item': 'Handwash', 'Amount': '0.49', 'Total': '0.49'}\n",
      "{'_id': ObjectId('5f98977f4e6d9ffd72f449cb'), 'SNo': '15', 'Date': '2020-01-31', 'Place': 'Netto', 'Item': 'Eggs, apple juice, dish wash(Shine)', 'Amount': '1.55+0.79+0.25+0.75', 'Total': '3.34'}\n",
      "{'_id': ObjectId('5f98977f4e6d9ffd72f449cc'), 'SNo': '16', 'Date': '2020-02-03', 'Place': 'Netto', 'Item': 'Biscuits, oil, bread, 2* khubza, ketchup', 'Amount': '0.99+0.99+0.69+0.32+0.79', 'Total': '3.78'}\n",
      "{'_id': ObjectId('5f98977f4e6d9ffd72f449cd'), 'SNo': '17', 'Date': '2020-02-05', 'Place': 'Netto', 'Item': 'Water, tomato, 2*khubza, Curd ', 'Amount': '0.19+0.25+1.29+0.32+0.49', 'Total': '2.54'}\n",
      "{'_id': ObjectId('5f98977f4e6d9ffd72f449ce'), 'SNo': '18', 'Date': '2020-02-06', 'Place': 'Netto', 'Item': '2*khubza, Eggs, bread', 'Amount': '0.32+1.55+0.59', 'Total': '2.46'}\n",
      "{'_id': ObjectId('5f98977f4e6d9ffd72f449cf'), 'SNo': '19', 'Date': '2020-02-07', 'Place': 'Netto', 'Item': '3*khubza, biscuit, pizza', 'Amount': '0.48+0.99+0.79', 'Total': '2.26'}\n",
      "{'_id': ObjectId('5f98977f4e6d9ffd72f449d0'), 'SNo': '20', 'Date': '2020-02-10', 'Place': 'Decathlon', 'Item': 'Football, Pump', 'Amount': '4.99+3.99', 'Total': '8.98'}\n",
      "{'_id': ObjectId('5f98977f4e6d9ffd72f449d1'), 'SNo': '21', 'Date': '2020-02-10', 'Place': 'Eurogida', 'Item': '2*brot,  1 kilo leg piece, 1kilo chicken breast', 'Amount': '3.18+3.35+4.44', 'Total': '10.97'}\n",
      "{'_id': ObjectId('5f98977f4e6d9ffd72f449d2'), 'SNo': '22', 'Date': '2020-02-13', 'Place': 'Netto', 'Item': 'Bread, biscuits, razor, signal toothpaste, onion, tomato, lime, water', 'Amount': '0.69+0.99+1.99+0.75+0.69+1.09+0.45+0.25+0.19+0.25', 'Total': '7.34'}\n",
      "{'_id': ObjectId('5f98977f4e6d9ffd72f449d3'), 'SNo': '23', 'Date': '2020-02-15', 'Place': 'Netto', 'Item': 'Bread, strawberry, tuna, cheese  slice, capsicum, pizza, yougurt, yogurt flavour', 'Amount': '0.69+1.80+1.19+0.99+1.39+0.79+0.35+0.49', 'Total': '7.69'}\n",
      "{'_id': ObjectId('5f98977f4e6d9ffd72f449d4'), 'SNo': '24', 'Date': '2020-02-22', 'Place': 'Netto', 'Item': 'Apple juice, biscuit, pizza, banana, curd, sugar, tomato', 'Amount': '0.79+0.25+0.99+0.79+1+0.49+0.35+1.79-0.27', 'Total': '6.18'}\n",
      "{'_id': ObjectId('5f98977f4e6d9ffd72f449d5'), 'SNo': '25', 'Date': '2020-02-28', 'Place': 'Netto', 'Item': 'Pizza, icecream, bread, cheese, tuna, 3Xkhubza', 'Amount': '0.79+1.49+0.69+0.99+1.19+0.48', 'Total': '5.63'}\n",
      "{'_id': ObjectId('5f98977f4e6d9ffd72f449d6'), 'SNo': '26', 'Date': '2020-03-02', 'Place': 'Eurogida', 'Item': 'chicken breast+leg, roti', 'Amount': '3.40+1.79', 'Total': '5.19'}\n",
      "{'_id': ObjectId('5f98977f4e6d9ffd72f449d7'), 'SNo': '27', 'Date': '2020-03-02', 'Place': 'Netto', 'Item': 'lemon juice, pizza, flavour yogurt, biscuits', 'Amount': '0.39+0.25+0.79+0.35-0.04+0.99', 'Total': '2.73'}\n",
      "{'_id': ObjectId('5f98977f4e6d9ffd72f449d8'), 'SNo': '28', 'Date': '2020-03-03', 'Place': 'Netto', 'Item': 'Onion, head and shoulder, handwash', 'Amount': '0.69+4.99+0.49', 'Total': '6.17'}\n",
      "{'_id': ObjectId('5f98977f4e6d9ffd72f449d9'), 'SNo': '29', 'Date': '2020-03-04', 'Place': 'Netto', 'Item': 'Bread, ketchup, fries, eggs', 'Amount': '0.69+0.79+0.99+1.55', 'Total': '4.02'}\n",
      "{'_id': ObjectId('5f98977f4e6d9ffd72f449da'), 'SNo': '30', 'Date': '2020-03-07', 'Place': 'Netto', 'Item': 'Pizza, Pizza, oil, tomato', 'Amount': '0.79+0.79+0.99+1.19', 'Total': '3.76'}\n",
      "{'_id': ObjectId('5f98977f4e6d9ffd72f449db'), 'SNo': '31', 'Date': '2020-03-09', 'Place': 'Eurogida', 'Item': '2 kila leg piece, 500gm keema, paratha, roti', 'Amount': '5.96+1.93+1.79+0.69', 'Total': '10.37'}\n",
      "{'_id': ObjectId('5f98977f4e6d9ffd72f449dc'), 'SNo': '32', 'Date': '2020-03-16', 'Place': 'Eurogida', 'Item': '2 kilo leg piece, 1 kilo keema, paratha, long brothe, 4 piece broth, onion', 'Amount': '6.95+3.19+1.29+1.79+1.39+0.99', 'Total': '15.6'}\n",
      "{'_id': ObjectId('5f98977f4e6d9ffd72f449dd'), 'SNo': '33', 'Date': '2020-03-20', 'Place': 'Netto', 'Item': 'fries, pizza, rice, bisuit, yogurt, curd, water(small), oil, water(big)', 'Amount': '0.99+0.79+0.59+0.99+0.35+0.49+0.11+0.25+0.99+0.19+0.25', 'Total': '5.99'}\n",
      "{'_id': ObjectId('5f98977f4e6d9ffd72f449de'), 'SNo': '34', 'Date': '2020-03-26', 'Place': 'Netto', 'Item': 'Pizza, bread, bread, wraps, signal toothbrush', 'Amount': '0.79+0.69+0.69+0.99+0.75', 'Total': '3.91'}\n",
      "{'_id': ObjectId('5f98977f4e6d9ffd72f449df'), 'SNo': '35', 'Date': '2020-03-31', 'Place': 'Netto', 'Item': 'water x6, pizza, biscuits, ketchup, tuna x2, chocolate pudding, bread, eggs', 'Amount': '1.14+1.50+0.79+0.99+0.79+1.19+1.19+0.35+0.69+1.55', 'Total': '10.18'}\n",
      "{'_id': ObjectId('5f98977f4e6d9ffd72f449e0'), 'SNo': '36', 'Date': '2020-04-07', 'Place': 'Netto', 'Item': 'Mayonaise, Pizza, Bread, Bodywash, tomato, freis, Onion, WATER DISPOSLE x10', 'Amount': '0.79+0.79+0.69+0.55+1.29+0.99+0.69-2.50', 'Total': '3.29'}\n",
      "{'_id': ObjectId('5f98977f4e6d9ffd72f449e1'), 'SNo': '37', 'Date': '2020-04-09', 'Place': 'Netto', 'Item': 'eggs, biscuits, coke, mozarella, pasta spiral, spaghetti x2, bread', 'Amount': '1.55+0.99+0.95+0.25+1.40+0.99+0.45+0.45+0.69', 'Total': '7.72'}\n",
      "{'_id': ObjectId('5f98977f4e6d9ffd72f449e2'), 'SNo': '38', 'Date': '2020-04-14', 'Place': 'Netto', 'Item': 'water x6, crossoint, ketchup, spaghetti x2, shaving cream', 'Amount': '1.14+1.50+1.49+0.79+0.45+0.45+0.85', 'Total': '6.67'}\n",
      "{'_id': ObjectId('5f98977f4e6d9ffd72f449e3'), 'SNo': '39', 'Date': '2020-04-22', 'Place': 'Netto', 'Item': 'Big bread, pizza X2, freis, aluu, bread X2, wraps, tomato, banana X2, coke, oil, spaghetti X2, rice, basmati rice, pasata sauce X2, werder sauce X2, mayonaise, tuna X2, ketchup, curd, biscuits, orangejuice, sugar, eggs', 'Amount': '0.99+0.79+0.79+0.99+1.69+0.69+0.69+0.99+1.29+0.49+0.85+1.09+0.25+0.99+0.45+0.45+0.59+0.99+0.39+0.39+1.59+0.79+1.19+1.19+0.79+0.49+0.99+1.19+0.29+1.55', 'Total': '25.9'}\n",
      "{'_id': ObjectId('5f98977f4e6d9ffd72f449e4'), 'SNo': '40', 'Date': '2020-05-09', 'Place': 'Netto', 'Item': 'onion, banana, fladen-brot X2, pizza X2, body wash, zwiebeln, biscuits, fries, signal toothbrush, kuhne warsauce, water, spaghetti sauce X2()800gm, spaghetti X3, bread, cocacola, olives, tuna fish oil, ketchup, handwash lovena, tomato, eggs, yogurt, rice, WATERBOTTLE DISPOSAL  x2(6 BOTTLES, 8 BOTTLES)', 'Amount': '1.69+0.9+0.99+0.99+0.79+0.79+1.20+0.75+0.99+0.99+0.75+0.89+0.19+0.25+0.89+0.89+0.45+0.45+0.45+0.69+1.09+0.25+0.79+1.19+0.79+0.49+1.19+1.55+0.49+0.59-1.50-2.00', 'Total': '24.40-1.50-2=20.9'}\n",
      "{'_id': ObjectId('5f98977f4e6d9ffd72f449e5'), 'SNo': '41', 'Date': '2020-05-17', 'Place': 'Netto', 'Item': 'Water *6, Pizza*6, fries, Wraps *2, Fusilli macaroni, banana 0.828kg, dishwash soap, olives *2, coke, tuna, chlli suace, peeled tomato', 'Amount': '1.14+1.50+0.79+0.79+0.99+0.99+0.99+0.45+1.40+0.75+0.79+0.79+1.09+0.25+1.19+0.89+0.39', 'Total': '15.18'}\n",
      "{'_id': ObjectId('5f98977f4e6d9ffd72f449e6'), 'SNo': '42', 'Date': '2020-05-25', 'Place': 'Netto', 'Item': 'Potato, cocacola 1.25l, biscuits, cocacola 0.33l, tomato, onion, fries, cake, pizzaX2, tomato paste, tuna, rice, wraps, olives X2, chilli sauce', 'Amount': '1.69+0.99+0.25+0.99+0.50+0.25+1.19+0.85+0.99+2.79+0.79+0.79+0.39+1.19+0.69+0.99+0.79+0.79+0.89', 'Total': '17.8'}\n",
      "{'_id': ObjectId('5f98977f4e6d9ffd72f449e7'), 'SNo': '43', 'Date': '2020-06-06', 'Place': 'Eurogida', 'Item': 'banana, 1kilo Keema, 0.5kilo chicken wings, 2kilo leg piece, baklawa, 3*fladenbrot, brot(paratha), plastic bag', 'Amount': '1+3.73+1.71+6.29+4.19+2.07+1.79+0.20', 'Total': '20.98'}\n",
      "{'_id': ObjectId('5f98977f4e6d9ffd72f449e8'), 'SNo': '44', 'Date': '2020-06-06', 'Place': 'Paper-la-papp', 'Item': '2 pen, 1 scale, 1 maths register, 2 english register', 'Amount': '0.89+0.89+0.69+0.85+1.70', 'Total': '5.02'}\n",
      "{'_id': ObjectId('5f98977f4e6d9ffd72f449e9'), 'SNo': '45', 'Date': '2020-07-10', 'Place': 'Eurogida', 'Item': 'Roti *4, chicken wings 500gm, keema 1 kilo, chicken legs 2 kilo ', 'Amount': '2.76+1.74+3.60+5.18', 'Total': '13.28'}\n",
      "{'_id': ObjectId('5f98977f4e6d9ffd72f449ea'), 'SNo': '46', 'Date': '2020-07-13', 'Place': 'Netto', 'Item': 'Pizza, tuna, bread, tomato *500gm, biscuits, ketchup, curd, olives, handwash, signal brush, tomato paste *2, onion, eggs, cocacola', 'Amount': '0.77+1.16+0.66+0.96+0.96+0.65+0.47+0.77+0.63+1.21+0.37+0.37+1.26+1.52+1.05+0.25', 'Total': '13.06'}\n",
      "{'_id': ObjectId('5f98977f4e6d9ffd72f449eb'), 'SNo': '47', 'Date': '2020-07-17', 'Place': 'Netto', 'Item': 'Pizza, Pizza, coca cola, fries, water X6, BOTTLE DISPOSAL (18 BOTLLES)', 'Amount': '0.77+0.77+1.05+0.25+0.77+1.08+1.50-4.50', 'Total': '1.69'}\n",
      "{'_id': ObjectId('5f98977f4e6d9ffd72f449ec'), 'SNo': '48', 'Date': '2020-07-22', 'Place': 'Netto', 'Item': 'brot, coca cola, tomato puree X3, tomato chilli sauce, water X6', 'Amount': '0.99+1.05+0.25+0.37+0.37+0.37+0.77+1.08+1.50', 'Total': '6.75+'}\n",
      "{'_id': ObjectId('5f98977f4e6d9ffd72f449ed'), 'SNo': '49', 'Date': '2020-07-25', 'Place': 'Netto', 'Item': 'cocacola, tuna, oil, tomato pasta, wraps, onion, tomato, mini romania(salad), lemon, Cucumber', 'Amount': '1.05+0.25+1.16+0.97+0.37+0.77+0.96+1.15+0.95+0.77+1.21+0.68', 'Total': '10.29+'}\n",
      "{'_id': ObjectId('5f98977f4e6d9ffd72f449ee'), 'SNo': '50', 'Date': '2020-07-29', 'Place': 'Netto', 'Item': 'pizza, pizza, yogurt, tuna, tomato pasta, spaghetti, wraps, cucuber 1 stick', 'Amount': '0.77+0.77+0.43+1.16+0.37+0.47+0.96+0.55', 'Total': '5.48'}\n",
      "{'_id': ObjectId('5f98977f4e6d9ffd72f449ef'), 'SNo': '51', 'Date': '2020-07-31', 'Place': 'Netto', 'Item': 'Coco cola 0.3 l', 'Amount': '0.48+0.25', 'Total': '0.73'}\n",
      "{'_id': ObjectId('5f98977f4e6d9ffd72f449f0'), 'SNo': '52', 'Date': '2020-08-03', 'Place': 'IKEA', 'Item': 'Inner pillow, Annons Top/Deck Cookware X2, plastic bag', 'Amount': '3.89+11.70+0.49', 'Total': '16.08'}\n",
      "{'_id': ObjectId('5f98977f4e6d9ffd72f449f1'), 'SNo': '53', 'Date': '2020-08-03', 'Place': 'Eurogida', 'Item': 'Roti *4(0.69*4), keema 1 kilo,  chicken wings 500gm,  chicken legs 2 kilo, tomato 1.57 kg,  pepsi can', 'Amount': '2.76+3.57+1.45+5.19+2.03+0.49+0.25', 'Total': '15.74'}\n",
      "{'_id': ObjectId('5f98977f4e6d9ffd72f449f2'), 'SNo': '54', 'Date': '2020-08-05', 'Place': 'Netto', 'Item': 'Cocacola, water small, lemon, eggs, olives, cucumber, biscuits, tomato paste X2, Washing clothes Pods', 'Amount': '1.05+0.25+0.10+0.25+1.21+1.52+0.77+0.55+0.96+0.37+0.37+3.36', 'Total': '10.76'}\n",
      "{'_id': ObjectId('5f98977f4e6d9ffd72f449f3'), 'SNo': '55', 'Date': '2020-08-06', 'Place': 'Washing Machine', 'Item': 'Monese, then monyx app', 'Amount': '2.5+2.5+2', 'Total': '7'}\n",
      "{'_id': ObjectId('5f98977f4e6d9ffd72f449f4'), 'SNo': '56', 'Date': '2020-08-06', 'Place': 'Recharge', 'Item': 'Vodafone recharge', 'Amount': '15', 'Total': '15'}\n",
      "{'_id': ObjectId('5f98977f4e6d9ffd72f449f5'), 'SNo': '57', 'Date': '2020-08-10', 'Place': 'netto', 'Item': 'Garnier facewash, soap, handwash', 'Amount': '3.99+0.49+0.63', 'Total': '5.11'}\n",
      "{'_id': ObjectId('5f98977f4e6d9ffd72f449f6'), 'SNo': '58', 'Date': '2020-08-14', 'Place': 'Netto', 'Item': 'bread, eggs, cocacola, salad, tomato, lemon, onion, gurken, curd, ice cream strawberry, butter sonja, butter frische small', 'Amount': '0.66+1.52+1.05+0.25+0.76+1.06+1.21+0.97+0.55+0.47+1.85+0.38+0.08', 'Total': '10.81'}\n",
      "{'_id': ObjectId('5f98977f4e6d9ffd72f449f7'), 'SNo': '59', 'Date': '2020-08-17', 'Place': 'Netto', 'Item': 'tomato puree X2, ice cream chocolate, potato, cocacola, wraps, water bottleX6', 'Amount': '0.37+0.37+1.56+1.42+1.05+0.25+0.96+1.08+1.50-1.75', 'Total': '8.56-1.75=6.81'}\n",
      "{'_id': ObjectId('5f98977f4e6d9ffd72f449f8'), 'SNo': '60', 'Date': '2020-08-22', 'Place': 'Netto', 'Item': 'wraps, salt, yogurt, shine, icecream, eggs, bread', 'Amount': '0.96+0.18+0.47+0.72+1.56+1.52+0.66', 'Total': '6.07'}\n",
      "{'_id': ObjectId('5f98977f4e6d9ffd72f449f9'), 'SNo': '61', 'Date': '2020-08-25', 'Place': 'Netto', 'Item': '6 khubza, 4 kaiserbrotchen, banana, milk small, yogurt, tuna, pasata, gurke, berliner ballen sweets, harry donuts', 'Amount': '0.37+0.47+1.71+0.51+0.47+1.16+0.37+0.69+0.53+0.53', 'Total': '6.81'}\n",
      "{'_id': ObjectId('5f98977f4e6d9ffd72f449fa'), 'SNo': '62', 'Date': '2020-08-26', 'Place': 'Netto', 'Item': 'Khubza, beriner ballen, head and shoulder', 'Amount': '0.38+0.53+3.83', 'Total': '4.74'}\n",
      "{'_id': ObjectId('5f98977f4e6d9ffd72f449fb'), 'SNo': '63', 'Date': '2020-08-29', 'Place': 'Netto', 'Item': 'Milk, khubza', 'Amount': '0.76+0.37', 'Total': '1.13'}\n",
      "{'_id': ObjectId('5f98977f4e6d9ffd72f449fc'), 'SNo': '64', 'Date': '2020-08-29', 'Place': 'Eurogida', 'Item': '', 'Amount': '', 'Total': ''}\n",
      "{'_id': ObjectId('5f98977f4e6d9ffd72f449fd'), 'SNo': '65', 'Date': '2020-09-03', 'Place': 'Netto', 'Item': 'milkX2, pasataX2, curd, banana, potato, khubza, bread, spaghetti, gurke, salad, ketchup, eggs, berliner ballenX2', 'Amount': '0.76+0.76+0.37+0.37+0.47+1.89+0.96+0.37+0.66+0.47+0.65+0.76+0.76+1.52+1.06', 'Total': '11.83'}\n",
      "{'_id': ObjectId('5f98977f4e6d9ffd72f449fe'), 'SNo': '66', 'Date': '2020-09-10', 'Place': 'Netto', 'Item': 'pizza, pizza, curd, cocacola, lemon, berliner ballen, kinder chocolate', 'Amount': '0.77+0.77+0.47+1.05+0.25+1.17+0.53+0.38', 'Total': '5.39'}\n",
      "{'_id': ObjectId('5f98977f4e6d9ffd72f449ff'), 'SNo': '67', 'Date': '2020-09-12', 'Place': 'Netto', 'Item': '2.5 kg potato, mayonaise, bread, 3 donuts, waterX6', 'Amount': '0.96+0.76+0.66+1.59+1.08', 'Total': '6.55'}\n",
      "{'_id': ObjectId('5f98977f4e6d9ffd72f44a00'), 'SNo': '68', 'Date': '2020-09-16', 'Place': 'Netto', 'Item': 'Eggs, cocacola, bread, biscuits, onion, donutX2', 'Amount': '1.52+1.05+0.25+0.66+0.96+0.58+0.53+0.53', 'Total': '6.08'}\n",
      "{'_id': ObjectId('5f98977f4e6d9ffd72f44a01'), 'SNo': '69', 'Date': '2020-09-18', 'Place': 'Netto', 'Item': 'Bread, handwash, khubza, cocacola, bodywash', 'Amount': '0.66+1.21+0.37+1.05+0.25+0.53', 'Total': '4.07'}\n",
      "{'_id': ObjectId('5f98977f4e6d9ffd72f44a02'), 'SNo': '70', 'Date': '2020-09-24', 'Place': 'Netto', 'Item': 'Bread, khubza, khubza, ketchup, garlic sauce, cocacola, yogurt, egg', 'Amount': '0.66+0.37+0.37+0.76+1.26+1.05+0.25+0.47+1.52', 'Total': '6.71'}\n",
      "{'_id': ObjectId('5f98977f4e6d9ffd72f44a03'), 'SNo': '71', 'Date': '2020-09-22', 'Place': 'Netto', 'Item': 'bread, pizza, eggs', 'Amount': '0.66+0.77+1.52', 'Total': '2.95'}\n",
      "{'_id': ObjectId('5f98977f4e6d9ffd72f44a04'), 'SNo': '72', 'Date': '2020-09-26', 'Place': 'Netto', 'Item': 'penne pasata, spaghetti, tomato tube', 'Amount': '0.47+0.47+0.47', 'Total': '1.41'}\n",
      "{'_id': ObjectId('5f98977f4e6d9ffd72f44a05'), 'SNo': '73', 'Date': '2020-09-29', 'Place': 'Netto', 'Item': 'potato, banana, tomato paste, yogurt, donuts X2, signal toothbrush, khubza,bread', 'Amount': '1.21+1.84+0.37+0.43+0.53+0.53+1.16+0.37+0.66', 'Total': '7.1'}\n",
      "{'_id': ObjectId('5f98977f4e6d9ffd72f44a06'), 'SNo': '74', 'Date': '2020-09-30', 'Place': 'Netto', 'Item': 'cheese slice, tuna', 'Amount': '0.96+1.15', 'Total': '2.11'}\n",
      "{'_id': ObjectId('5f98977f4e6d9ffd72f44a07'), 'SNo': '75', 'Date': '2020-10-02', 'Place': 'Netto', 'Item': 'water bottle X6, khubza, bread, cocacola, eggs, water bottle disposal X12', 'Amount': '1.08+1.50+0.37+0.66+0.86+0.25+1.52 - 3.00', 'Total': '6.24-3.00=3.24'}\n",
      "{'_id': ObjectId('5f98977f4e6d9ffd72f44a08'), 'SNo': '76', 'Date': '2020-10-05', 'Place': 'DM', 'Item': 'men expert loreal charcoal facwash', 'Amount': '4.65', 'Total': '4.65'}\n",
      "{'_id': ObjectId('5f98977f4e6d9ffd72f44a09'), 'SNo': '77', 'Date': '2020-10-05', 'Place': 'Eurogida', 'Item': '2 kilo leg piece, 1 kilo chicken wings, 1 kilo keema, small roti, 3 big roti, windmill sambal oelek - harisa, pepsi can', 'Amount': '5.32+4.08+2.95+0.69+3.30+1.19+0.49+0.25', 'Total': '18.27'}\n",
      "{'_id': ObjectId('5f98977f4e6d9ffd72f44a0a'), 'SNo': '78', 'Date': '2020-10-07', 'Place': 'Netto', 'Item': 'Bread, oil, eggs, handwash, mayonaise, cheese slice, cocacola', 'Amount': '0.66+0.96+1.52+0.63+0.76+0.96+1.26+0.25', 'Total': '7'}\n",
      "{'_id': ObjectId('5f98977f4e6d9ffd72f44a0b'), 'SNo': '79', 'Date': '2020-10-12', 'Place': 'Netto', 'Item': '2 harry donuts, tomato puree, ketchup, strawberry jam, shine Form, bread, pizza, eggs X2 crate', 'Amount': '1.06+0.37+0.76+0.86+0.96+0.66+0.77+1.52+1.52', 'Total': '8.48'}\n",
      "{'_id': ObjectId('5f98977f4e6d9ffd72f44a0c'), 'SNo': '80', 'Date': '2020-10-17', 'Place': 'Netto', 'Item': 'cocacola, big bread, khubza, lemon, apple, BOTTLE DISPOSAL x 9', 'Amount': '1.26+0.25+0.86+0.37+1.26+1.50-2.25', 'Total': '5.5-2.25=3.25'}\n",
      "{'_id': ObjectId('5f98977f4e6d9ffd72f44a0d'), 'SNo': '81', 'Date': '2020-10-22', 'Place': 'Netto', 'Item': 'bread big, basmati rice, rice', 'Amount': '0.86+0.97+0.66', 'Total': '2.49'}\n",
      "{'_id': ObjectId('5f98977f4e6d9ffd72f44a0e'), 'SNo': '82', 'Date': '2020-10-22', 'Place': 'Netto', 'Item': 'pepsi, pizza margerita small, donut, pesto genovese, kinder', 'Amount': '0.44+0.25+0.77+0.47+0.96+0.60', 'Total': '3.49'}\n",
      "{'_id': ObjectId('5f98977f4e6d9ffd72f44a0f'), 'SNo': '83', 'Date': '2020-10-27', 'Place': 'Netto', 'Item': 'bread, eggs, rice, bodywash X3, tomato paste, cheese slice, curd, strawberry yogurt, gurke, condense milk, mayonaisse, tuna', 'Amount': '0.66+1.52+0.66+2.22+0.37+0.96+0.47+0.43+0.97+0.57+0.76+1.15', 'Total': '10.74'}\n"
     ]
    }
   ],
   "source": [
    "for post in col.find():\n",
    "    print(post)"
   ]
  },
  {
   "cell_type": "code",
   "execution_count": 25,
   "metadata": {},
   "outputs": [],
   "source": [
    "collection = client.Bank.CustomerTransactions"
   ]
  },
  {
   "cell_type": "code",
   "execution_count": null,
   "metadata": {},
   "outputs": [],
   "source": []
  }
 ],
 "metadata": {
  "kernelspec": {
   "display_name": "Python 3",
   "language": "python",
   "name": "python3"
  },
  "language_info": {
   "codemirror_mode": {
    "name": "ipython",
    "version": 3
   },
   "file_extension": ".py",
   "mimetype": "text/x-python",
   "name": "python",
   "nbconvert_exporter": "python",
   "pygments_lexer": "ipython3",
   "version": "3.7.3"
  }
 },
 "nbformat": 4,
 "nbformat_minor": 4
}
