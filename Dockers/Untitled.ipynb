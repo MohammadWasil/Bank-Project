{
 "cells": [
  {
   "cell_type": "code",
   "execution_count": 64,
   "metadata": {},
   "outputs": [],
   "source": [
    "import pandas as pd\n",
    "from pymongo import MongoClient \n",
    "import os, json, csv\n"
   ]
  },
  {
   "cell_type": "code",
   "execution_count": 143,
   "metadata": {},
   "outputs": [
    {
     "name": "stdout",
     "output_type": "stream",
     "text": [
      "Database is created !!\n",
      "Collection is created\n"
     ]
    }
   ],
   "source": [
    "# Creating a client \n",
    "client = MongoClient(\"mongodb://localhost:27017/\") \n",
    "  \n",
    "# Greating a database name GFG \n",
    "database = client[\"Bank\"] \n",
    "print(\"Database is created !!\")\n",
    "\n",
    "collection = database[\"CustomerTransactions\"]\n",
    "print(\"Collection is created\")"
   ]
  },
  {
   "cell_type": "code",
   "execution_count": 155,
   "metadata": {},
   "outputs": [
    {
     "data": {
      "text/plain": [
       "Collection(Database(MongoClient(host=['localhost:27017'], document_class=dict, tz_aware=False, connect=True), 'Bank'), 'CustomerTransactions.CustomerTransactions')"
      ]
     },
     "execution_count": 155,
     "metadata": {},
     "output_type": "execute_result"
    }
   ],
   "source": [
    "collection.CustomerTransactions"
   ]
  },
  {
   "cell_type": "code",
   "execution_count": 153,
   "metadata": {},
   "outputs": [],
   "source": [
    "# To check if the database is created or not.\n",
    "list_of_database = client.list_database_names() \n",
    "\n",
    "if \"Bank\" in list_of_db: \n",
    "\tprint(\"Exists !!\") \n",
    "    \n",
    "\n",
    "# To check if the collection is created.\n",
    "list_of_collection = database.list_collection_names()\n",
    "if \"CustomerTransaction\" in list_of_collection:\n",
    "    print(\"Exists !!\")\n"
   ]
  },
  {
   "cell_type": "code",
   "execution_count": 37,
   "metadata": {},
   "outputs": [
    {
     "data": {
      "text/plain": [
       "'D:\\\\Groceries with card.xlsx'"
      ]
     },
     "execution_count": 37,
     "metadata": {},
     "output_type": "execute_result"
    }
   ],
   "source": [
    "os.path.join(dir_path, excel_file)\n"
   ]
  },
  {
   "cell_type": "code",
   "execution_count": 148,
   "metadata": {},
   "outputs": [],
   "source": [
    "dir_path = \"D:/ML/Tutorials/Git/Dockers/Groceries with card.xlsx\"\n",
    "csv_file = \"D:/ML/Tutorials/Git/Dockers/Groceries with card.csv\"\n",
    "\n",
    "data = pd.read_excel (dir_path)\n",
    "data.set_index(\"SNo\", inplace=True)\n",
    "data.to_csv(csv_file)\n"
   ]
  },
  {
   "cell_type": "code",
   "execution_count": 149,
   "metadata": {},
   "outputs": [
    {
     "data": {
      "text/html": [
       "<div>\n",
       "<style scoped>\n",
       "    .dataframe tbody tr th:only-of-type {\n",
       "        vertical-align: middle;\n",
       "    }\n",
       "\n",
       "    .dataframe tbody tr th {\n",
       "        vertical-align: top;\n",
       "    }\n",
       "\n",
       "    .dataframe thead th {\n",
       "        text-align: right;\n",
       "    }\n",
       "</style>\n",
       "<table border=\"1\" class=\"dataframe\">\n",
       "  <thead>\n",
       "    <tr style=\"text-align: right;\">\n",
       "      <th></th>\n",
       "      <th>Date</th>\n",
       "      <th>Place</th>\n",
       "      <th>Item</th>\n",
       "      <th>Amount</th>\n",
       "      <th>Total</th>\n",
       "    </tr>\n",
       "    <tr>\n",
       "      <th>SNo</th>\n",
       "      <th></th>\n",
       "      <th></th>\n",
       "      <th></th>\n",
       "      <th></th>\n",
       "      <th></th>\n",
       "    </tr>\n",
       "  </thead>\n",
       "  <tbody>\n",
       "    <tr>\n",
       "      <th>1</th>\n",
       "      <td>2020-01-01</td>\n",
       "      <td>Netto</td>\n",
       "      <td>apple juice, roma pudding, pizza, finton doppe...</td>\n",
       "      <td>0.79+0.25+0.35+0.79+0.99</td>\n",
       "      <td>3.17</td>\n",
       "    </tr>\n",
       "    <tr>\n",
       "      <th>2</th>\n",
       "      <td>2020-01-08</td>\n",
       "      <td>Netto</td>\n",
       "      <td>oil, kechup, pizza, bread, pyaaz</td>\n",
       "      <td>0.99+1.29+0.79+0.59+0.69</td>\n",
       "      <td>4.35</td>\n",
       "    </tr>\n",
       "    <tr>\n",
       "      <th>3</th>\n",
       "      <td>2020-01-11</td>\n",
       "      <td>Netto</td>\n",
       "      <td>Margherita Pizza, Pepsi, Banana</td>\n",
       "      <td>0.79+0.95+0.25+0.94</td>\n",
       "      <td>2.93</td>\n",
       "    </tr>\n",
       "    <tr>\n",
       "      <th>4</th>\n",
       "      <td>2020-01-14</td>\n",
       "      <td>Netto</td>\n",
       "      <td>Water, pizza, eggs, mozzarella cheese</td>\n",
       "      <td>0.19+0.25+0.79+1.43+1.40</td>\n",
       "      <td>4.06</td>\n",
       "    </tr>\n",
       "    <tr>\n",
       "      <th>5</th>\n",
       "      <td>2020-01-22</td>\n",
       "      <td>Netto</td>\n",
       "      <td>Apple juice, 2 kubza</td>\n",
       "      <td>0.79+0.25+0.32</td>\n",
       "      <td>1.36</td>\n",
       "    </tr>\n",
       "    <tr>\n",
       "      <th>...</th>\n",
       "      <td>...</td>\n",
       "      <td>...</td>\n",
       "      <td>...</td>\n",
       "      <td>...</td>\n",
       "      <td>...</td>\n",
       "    </tr>\n",
       "    <tr>\n",
       "      <th>79</th>\n",
       "      <td>2020-10-12</td>\n",
       "      <td>Netto</td>\n",
       "      <td>2 harry donuts, tomato puree, ketchup, strawbe...</td>\n",
       "      <td>1.06+0.37+0.76+0.86+0.96+0.66+0.77+1.52+1.52</td>\n",
       "      <td>8.48</td>\n",
       "    </tr>\n",
       "    <tr>\n",
       "      <th>80</th>\n",
       "      <td>2020-10-17</td>\n",
       "      <td>Netto</td>\n",
       "      <td>cocacola, big bread, khubza, lemon, apple, BOT...</td>\n",
       "      <td>1.26+0.25+0.86+0.37+1.26+1.50-2.25</td>\n",
       "      <td>5.5-2.25=3.25</td>\n",
       "    </tr>\n",
       "    <tr>\n",
       "      <th>81</th>\n",
       "      <td>2020-10-22</td>\n",
       "      <td>Netto</td>\n",
       "      <td>bread big, basmati rice, rice</td>\n",
       "      <td>0.86+0.97+0.66</td>\n",
       "      <td>2.49</td>\n",
       "    </tr>\n",
       "    <tr>\n",
       "      <th>82</th>\n",
       "      <td>2020-10-22</td>\n",
       "      <td>Netto</td>\n",
       "      <td>pepsi, pizza margerita small, donut, pesto gen...</td>\n",
       "      <td>0.44+0.25+0.77+0.47+0.96+0.60</td>\n",
       "      <td>3.49</td>\n",
       "    </tr>\n",
       "    <tr>\n",
       "      <th>83</th>\n",
       "      <td>2020-10-27</td>\n",
       "      <td>Netto</td>\n",
       "      <td>bread, eggs, rice, bodywash X3, tomato paste, ...</td>\n",
       "      <td>0.66+1.52+0.66+2.22+0.37+0.96+0.47+0.43+0.97+0...</td>\n",
       "      <td>10.74</td>\n",
       "    </tr>\n",
       "  </tbody>\n",
       "</table>\n",
       "<p>83 rows × 5 columns</p>\n",
       "</div>"
      ],
      "text/plain": [
       "          Date  Place                                               Item  \\\n",
       "SNo                                                                        \n",
       "1   2020-01-01  Netto  apple juice, roma pudding, pizza, finton doppe...   \n",
       "2   2020-01-08  Netto                   oil, kechup, pizza, bread, pyaaz   \n",
       "3   2020-01-11  Netto                    Margherita Pizza, Pepsi, Banana   \n",
       "4   2020-01-14  Netto              Water, pizza, eggs, mozzarella cheese   \n",
       "5   2020-01-22  Netto                               Apple juice, 2 kubza   \n",
       "..         ...    ...                                                ...   \n",
       "79  2020-10-12  Netto  2 harry donuts, tomato puree, ketchup, strawbe...   \n",
       "80  2020-10-17  Netto  cocacola, big bread, khubza, lemon, apple, BOT...   \n",
       "81  2020-10-22  Netto                      bread big, basmati rice, rice   \n",
       "82  2020-10-22  Netto  pepsi, pizza margerita small, donut, pesto gen...   \n",
       "83  2020-10-27  Netto  bread, eggs, rice, bodywash X3, tomato paste, ...   \n",
       "\n",
       "                                                Amount          Total  \n",
       "SNo                                                                    \n",
       "1                             0.79+0.25+0.35+0.79+0.99           3.17  \n",
       "2                             0.99+1.29+0.79+0.59+0.69           4.35  \n",
       "3                                  0.79+0.95+0.25+0.94           2.93  \n",
       "4                             0.19+0.25+0.79+1.43+1.40           4.06  \n",
       "5                                       0.79+0.25+0.32           1.36  \n",
       "..                                                 ...            ...  \n",
       "79        1.06+0.37+0.76+0.86+0.96+0.66+0.77+1.52+1.52           8.48  \n",
       "80                  1.26+0.25+0.86+0.37+1.26+1.50-2.25  5.5-2.25=3.25  \n",
       "81                                      0.86+0.97+0.66           2.49  \n",
       "82                       0.44+0.25+0.77+0.47+0.96+0.60           3.49  \n",
       "83   0.66+1.52+0.66+2.22+0.37+0.96+0.47+0.43+0.97+0...          10.74  \n",
       "\n",
       "[83 rows x 5 columns]"
      ]
     },
     "execution_count": 149,
     "metadata": {},
     "output_type": "execute_result"
    }
   ],
   "source": [
    "data"
   ]
  },
  {
   "cell_type": "code",
   "execution_count": 157,
   "metadata": {},
   "outputs": [],
   "source": [
    "header= [ \"SNo\", \"Date\", \"Place\",\"Item\", \"Amount\", \"Total\"]\n",
    "\n",
    "with open(csv_file, encoding='utf-8') as csvf:\n",
    "\n",
    "    reader = csv.DictReader( csvf, header)\n",
    "\n",
    "    for each in reader:\n",
    "        row={}\n",
    "        for field in header:\n",
    "            row[field]=each[field]\n",
    "            \n",
    "        database.CustomerTransactions.insert_one(row)\n",
    "\n",
    "#"
   ]
  },
  {
   "cell_type": "code",
   "execution_count": 138,
   "metadata": {},
   "outputs": [
    {
     "data": {
      "text/plain": [
       "{'S. No': '83',\n",
       " 'Date': '2020-10-27',\n",
       " 'Place': 'Netto',\n",
       " 'Item': 'bread, eggs, rice, bodywash X3, tomato paste, cheese slice, curd, strawberry yogurt, gurke, condense milk, mayonaisse, tuna',\n",
       " 'Amount': '0.66+1.52+0.66+2.22+0.37+0.96+0.47+0.43+0.97+0.57+0.76+1.15',\n",
       " 'Total': '10.74'}"
      ]
     },
     "execution_count": 138,
     "metadata": {},
     "output_type": "execute_result"
    }
   ],
   "source": [
    "row"
   ]
  },
  {
   "cell_type": "code",
   "execution_count": null,
   "metadata": {},
   "outputs": [],
   "source": []
  },
  {
   "cell_type": "code",
   "execution_count": null,
   "metadata": {},
   "outputs": [],
   "source": []
  },
  {
   "cell_type": "code",
   "execution_count": null,
   "metadata": {},
   "outputs": [],
   "source": []
  }
 ],
 "metadata": {
  "kernelspec": {
   "display_name": "Python 3",
   "language": "python",
   "name": "python3"
  },
  "language_info": {
   "codemirror_mode": {
    "name": "ipython",
    "version": 3
   },
   "file_extension": ".py",
   "mimetype": "text/x-python",
   "name": "python",
   "nbconvert_exporter": "python",
   "pygments_lexer": "ipython3",
   "version": "3.7.3"
  }
 },
 "nbformat": 4,
 "nbformat_minor": 4
}
